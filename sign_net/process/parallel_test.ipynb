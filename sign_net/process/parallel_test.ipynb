{
 "cells": [
  {
   "cell_type": "code",
   "execution_count": 1,
   "metadata": {},
   "outputs": [],
   "source": [
    "from math import modf\n",
    "from joblib import Parallel, delayed"
   ]
  },
  {
   "cell_type": "code",
   "execution_count": 7,
   "metadata": {},
   "outputs": [],
   "source": [
    "def test(i):\n",
    "    a = {}\n",
    "    b = {}\n",
    "    c = {}\n",
    "    for j in range(i):\n",
    "        a[j] = i\n",
    "        b[j] = i\n",
    "        c[j] = i\n",
    "    return a, b, c"
   ]
  },
  {
   "cell_type": "code",
   "execution_count": 8,
   "metadata": {},
   "outputs": [],
   "source": [
    "r = Parallel(n_jobs=-1)(delayed(test)(i) for i in range(10))"
   ]
  },
  {
   "cell_type": "code",
   "execution_count": 9,
   "metadata": {},
   "outputs": [
    {
     "data": {
      "text/plain": [
       "[({}, {}, {}),\n",
       " ({0: 1}, {0: 1}, {0: 1}),\n",
       " ({0: 2, 1: 2}, {0: 2, 1: 2}, {0: 2, 1: 2}),\n",
       " ({0: 3, 1: 3, 2: 3}, {0: 3, 1: 3, 2: 3}, {0: 3, 1: 3, 2: 3}),\n",
       " ({0: 4, 1: 4, 2: 4, 3: 4},\n",
       "  {0: 4, 1: 4, 2: 4, 3: 4},\n",
       "  {0: 4, 1: 4, 2: 4, 3: 4}),\n",
       " ({0: 5, 1: 5, 2: 5, 3: 5, 4: 5},\n",
       "  {0: 5, 1: 5, 2: 5, 3: 5, 4: 5},\n",
       "  {0: 5, 1: 5, 2: 5, 3: 5, 4: 5}),\n",
       " ({0: 6, 1: 6, 2: 6, 3: 6, 4: 6, 5: 6},\n",
       "  {0: 6, 1: 6, 2: 6, 3: 6, 4: 6, 5: 6},\n",
       "  {0: 6, 1: 6, 2: 6, 3: 6, 4: 6, 5: 6}),\n",
       " ({0: 7, 1: 7, 2: 7, 3: 7, 4: 7, 5: 7, 6: 7},\n",
       "  {0: 7, 1: 7, 2: 7, 3: 7, 4: 7, 5: 7, 6: 7},\n",
       "  {0: 7, 1: 7, 2: 7, 3: 7, 4: 7, 5: 7, 6: 7}),\n",
       " ({0: 8, 1: 8, 2: 8, 3: 8, 4: 8, 5: 8, 6: 8, 7: 8},\n",
       "  {0: 8, 1: 8, 2: 8, 3: 8, 4: 8, 5: 8, 6: 8, 7: 8},\n",
       "  {0: 8, 1: 8, 2: 8, 3: 8, 4: 8, 5: 8, 6: 8, 7: 8}),\n",
       " ({0: 9, 1: 9, 2: 9, 3: 9, 4: 9, 5: 9, 6: 9, 7: 9, 8: 9},\n",
       "  {0: 9, 1: 9, 2: 9, 3: 9, 4: 9, 5: 9, 6: 9, 7: 9, 8: 9},\n",
       "  {0: 9, 1: 9, 2: 9, 3: 9, 4: 9, 5: 9, 6: 9, 7: 9, 8: 9})]"
      ]
     },
     "execution_count": 9,
     "metadata": {},
     "output_type": "execute_result"
    }
   ],
   "source": [
    "r"
   ]
  },
  {
   "cell_type": "code",
   "execution_count": null,
   "metadata": {},
   "outputs": [],
   "source": []
  }
 ],
 "metadata": {
  "kernelspec": {
   "display_name": "Python 3.8.12 ('dti2')",
   "language": "python",
   "name": "python3"
  },
  "language_info": {
   "codemirror_mode": {
    "name": "ipython",
    "version": 3
   },
   "file_extension": ".py",
   "mimetype": "text/x-python",
   "name": "python",
   "nbconvert_exporter": "python",
   "pygments_lexer": "ipython3",
   "version": "3.8.12"
  },
  "orig_nbformat": 4,
  "vscode": {
   "interpreter": {
    "hash": "534086a7a64b6d2af620281a45b6c7f44cc363aa6f1340f65c254d708bd31c88"
   }
  }
 },
 "nbformat": 4,
 "nbformat_minor": 2
}
